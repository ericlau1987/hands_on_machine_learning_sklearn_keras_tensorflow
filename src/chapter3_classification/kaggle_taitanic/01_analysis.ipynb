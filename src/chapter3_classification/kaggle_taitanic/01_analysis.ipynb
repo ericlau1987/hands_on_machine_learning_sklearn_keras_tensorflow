{
 "cells": [
  {
   "cell_type": "code",
   "execution_count": null,
   "metadata": {},
   "outputs": [],
   "source": []
  }
 ],
 "metadata": {
  "kernelspec": {
   "display_name": "sklearn-env",
   "language": "python",
   "name": "python3"
  },
  "language_info": {
   "name": "python",
   "version": "3.11.0"
  },
  "orig_nbformat": 4,
  "vscode": {
   "interpreter": {
    "hash": "4ee21436beee5293f23e5a45844d09d10346aff943a17e025b63104142c8ef30"
   }
  }
 },
 "nbformat": 4,
 "nbformat_minor": 2
}
